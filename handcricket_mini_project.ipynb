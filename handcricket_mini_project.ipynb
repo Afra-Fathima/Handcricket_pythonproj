{
  "nbformat": 4,
  "nbformat_minor": 0,
  "metadata": {
    "colab": {
      "provenance": [],
      "authorship_tag": "ABX9TyMgw3jNTgLyLNN9wfc6hBEY",
      "include_colab_link": true
    },
    "kernelspec": {
      "name": "python3",
      "display_name": "Python 3"
    },
    "language_info": {
      "name": "python"
    }
  },
  "cells": [
    {
      "cell_type": "markdown",
      "metadata": {
        "id": "view-in-github",
        "colab_type": "text"
      },
      "source": [
        "<a href=\"https://colab.research.google.com/github/Afra-Fathima/Handcricket_pythonproj/blob/main/handcricket_mini_project.ipynb\" target=\"_parent\"><img src=\"https://colab.research.google.com/assets/colab-badge.svg\" alt=\"Open In Colab\"/></a>"
      ]
    },
    {
      "cell_type": "code",
      "execution_count": null,
      "metadata": {
        "id": "HcA0a1ALdkwa",
        "colab": {
          "base_uri": "https://localhost:8080/"
        },
        "outputId": "c094c81d-335e-484f-e78b-5d60107f83e8"
      },
      "outputs": [
        {
          "output_type": "stream",
          "name": "stdout",
          "text": [
            "ODD or EVEN ?ODD\n",
            "ENTER TOSS VALUE1\n",
            "TOSS : YOU : 1\n",
            "TOSS : COMPUTER : 3\n",
            "computer won the TOSS and chose to BAT\n",
            "YOU:BOWLING\tINNINGS:1\n",
            "ENTER A VALUE BETWEEN 1 AND 6:4\n",
            "YOU : 4\n",
            "COMPUTER : 3\n",
            "SCORE : 4\n",
            "YOU:BOWLING\tINNINGS:1\n",
            "ENTER A VALUE BETWEEN 1 AND 6:4\n",
            "YOU : 4\n",
            "COMPUTER : 5\n",
            "SCORE : 9\n",
            "YOU:BOWLING\tINNINGS:1\n",
            "ENTER A VALUE BETWEEN 1 AND 6:5\n",
            "YOU : 5\n",
            "COMPUTER : 6\n",
            "SCORE : 15\n",
            "YOU:BOWLING\tINNINGS:1\n",
            "ENTER A VALUE BETWEEN 1 AND 6:4\n",
            "YOU : 4\n",
            "COMPUTER : 5\n",
            "SCORE : 20\n",
            "YOU:BOWLING\tINNINGS:1\n",
            "ENTER A VALUE BETWEEN 1 AND 6:5\n",
            "YOU : 5\n",
            "COMPUTER : 1\n",
            "SCORE : 21\n"
          ]
        }
      ],
      "source": [
        "import random\n",
        "import math\n",
        "\n",
        "player_select = input(\"ODD or EVEN ?\")\n",
        "\n",
        "computer_input = math.ceil(random.random()*6)\n",
        "player_input = int(input(\"ENTER TOSS VALUE\"))\n",
        "\n",
        "print(\"TOSS : YOU : \" + str(player_input))\n",
        "print(\"TOSS : COMPUTER : \" + str(computer_input))\n",
        "\n",
        "status = \"\"\n",
        "if player_select == \"EVEN\":\n",
        "    if((computer_input + int(player_input)) %2 ==0):\n",
        "      print(\"you won the TOSS\")\n",
        "      status = input(\"BATTING or BOWLING?\")\n",
        "\n",
        "\n",
        "    else:\n",
        "        choice = random.random()\n",
        "        if(choice < 0.5):\n",
        "            print(\"computer won the TOSS and chose to BAT\")\n",
        "            status = \"BOWLING\"\n",
        "        else:\n",
        "            print(\"computer won the TOSS and chose to BOWL\")\n",
        "            status = \"BATTING\"\n",
        "\n",
        "if player_select == \"ODD\":\n",
        "    if((computer_input + int(player_input)) % 2 ==1):\n",
        "        status = input(\"BATTING or BOWLING?\")\n",
        "    else:\n",
        "        choice = random.random()\n",
        "        if(choice < 0.5):\n",
        "            print(\"computer won the TOSS and chose to BAT\")\n",
        "            status = \"BOWLING\"\n",
        "        else:\n",
        "           print(\"computer won the TOSS and chose to BOWL\")\n",
        "           status = \"BATTING\"\n",
        "\n",
        "\n",
        "\n",
        "score = 0\n",
        "target = 1\n",
        "innings = 1\n",
        "\n",
        "while True:\n",
        "    player_input = int(input(\"YOU:\" + status +  \"\\tINNINGS:\" + str(innings) +\"\\nENTER A VALUE BETWEEN 1 AND 6:\"))\n",
        "    computer_input = math.ceil(random.random() * 6)\n",
        "    print(\"YOU : \" + str(player_input))\n",
        "    print(\"COMPUTER : \" + str(computer_input))\n",
        "\n",
        "    if(player_input == computer_input):\n",
        "        if(status == \"BATTING\" and innings == 1):\n",
        "            status = \"BOWLING\"\n",
        "            innings = 2\n",
        "            print(\"OUT............................................\")\n",
        "            print(\"TO DEFEND : \" + str(score))\n",
        "        elif(status == \"BOWLING\" and innings == 1):\n",
        "            status = \"BATTING\"\n",
        "            innings = 2\n",
        "            print(\"OUT............................................\")\n",
        "            print(\"TO GET : \" + str(target))\n",
        "        elif(status == \"BATTING\" and innings == 2):\n",
        "            print(\"COMPUTER WON THE MATCH..........................\")\n",
        "            break\n",
        "        elif(status == \"BOWLING\" and innings == 2):\n",
        "            print(\"YOU WON THE MATCH...............................\")\n",
        "            break\n",
        "    else:\n",
        "        if(status == \"BATTING\" and innings == 1):\n",
        "            score = score + player_input\n",
        "            print(\"SCORE : \" + str(score))\n",
        "        elif(status == \"BATTING\" and innings == 2):\n",
        "            if(target - player_input > 0):\n",
        "                target = target - player_input\n",
        "                print(\"TO GET : \" + str(target))\n",
        "            else:\n",
        "                print(\"YOU WON THE MATCH............................\")\n",
        "                break\n",
        "        elif(status == \"BOWLING\" and innings == 1):\n",
        "            target = target + computer_input\n",
        "            print(\"SCORE : \" + str(target))\n",
        "        elif(status == \"BOWLING\" and innings == 2):\n",
        "            if(score - computer_input > 0):\n",
        "                score = score - computer_input\n",
        "                print(\"TO DEFEND : \" + str(score))\n",
        "            else:\n",
        "                print(\"COMPUTER WON THE MATCH.......................\")\n",
        "                break"
      ]
    },
    {
      "cell_type": "code",
      "source": [],
      "metadata": {
        "id": "yx3FER74olAg"
      },
      "execution_count": null,
      "outputs": []
    }
  ]
}